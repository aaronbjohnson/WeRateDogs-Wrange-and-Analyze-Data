{
 "cells": [
  {
   "cell_type": "markdown",
   "metadata": {},
   "source": [
    "## WeRateDogs Data Wrangling Report\n",
    "### Aaron Johnson"
   ]
  },
  {
   "cell_type": "markdown",
   "metadata": {},
   "source": [
    "\n",
    "\n",
    "### Gathering"
   ]
  },
  {
   "cell_type": "markdown",
   "metadata": {},
   "source": [
    "The main `twitter_archive` was provided for us and I was able to save that to pandas data frame by using `pd.read_csv()`. The `images` data frame required me to use the `requests` library to retrieve information from a given url. The last data frame proved to be quite a bit more involved in that it required retrieving twitter API data by using the `tweepy` package. \n",
    "\n",
    "Some of the information was not able to be retrieved, with an error message of “No status found with that ID.”"
   ]
  },
  {
   "cell_type": "markdown",
   "metadata": {},
   "source": [
    "### Assessing"
   ]
  },
  {
   "cell_type": "markdown",
   "metadata": {},
   "source": [
    "For the initial stages of the assessment I viewed the beginning and end of each data frame, as well as it’s info. This investigation showed that there were quite a few things that needed to be cleaned with the data. \n",
    "\n",
    "Issues with quality:\n",
    "- *timestamp* and *retweeted_status_timestamp* were stored as strings instead of time data.\n",
    "- 181 of the tweets were actually retweets.\n",
    "- The values for *source* were stored as an html 'a<' tag.\n",
    "- Some of the tweets did not have images.\n",
    "- Tweets had multiple slashes in the *text* column leading to false ratings.\n",
    "- There were missing dog names.\n",
    "- Some dogs received the wrong name information.\n",
    "*in_reply_to_status_id*, *in_reply_to_user_id*, *retweeted_status_id*, *retweeted_status_user_id* all had a float datatype."
   ]
  },
  {
   "cell_type": "markdown",
   "metadata": {},
   "source": [
    "### Cleaning"
   ]
  },
  {
   "cell_type": "markdown",
   "metadata": {},
   "source": [
    "After making a clean copy of each data frame in order to refer to the original raw data, I began *defining*, *coding*, and *testing* each of the issues mentioned in the assessment.\n",
    "\n",
    "I dropped the tweets that did not have images by writing over the cleaned data with only those tweets whose `expanded_urls` values were not null.\n",
    "\n",
    "The dogs who had been assigned the wrong name due to the names being extracted incorrectly from the `text` column all had a lowercase word as their name. To fix this I wrote a function to check if the name began with a lowercase letter and to replace the name with a value of ‘None’.\n",
    "\n",
    "For the dogs with a name of ‘None’, I used numpy to replace the ‘None’ string with a null value.\n",
    "\n",
    "I wrote over the dataset with only those tweets whose `retweeted_status_id` was null. I then dropped the retweet_status information.\n",
    "\n",
    "The tidiness issue of the dog stage variables being stored in both rows and columns proved to be the most difficult by far. I spent hours and hours trying to use pandas melt to combine everything into one column. After giving up on `melt` I found a workaround via stack overflow and through another student’s solution (See references section).\n",
    "\n",
    "I then joined the data frame with the `favorite_count` and `retweet_count` information to the main archive data frame.\n",
    "\n",
    "As for the quality issues, I converted the `timestamp` and `retweeted_status_timestamp` to date time date types. I then wrote a function that used regular expressions to clean up the information provided in the `source` column.\n",
    "\n",
    "I then addressed the issue of the false ratings by writing a function that would save the correct rating in a new column. I then converted the fraction rating to a float rating in order to analyze it later."
   ]
  },
  {
   "cell_type": "markdown",
   "metadata": {},
   "source": [
    "### Analyzing"
   ]
  },
  {
   "cell_type": "markdown",
   "metadata": {},
   "source": [
    "For the analysis I was interested to see what the average rating was, what the most frequent dog stage was, and to see what kind of relationship there was between `retweet_count` and `favorite_count`. \n",
    "\n",
    "I found that the average rating was around 1.165, the most frequent dog stage was *pupper*, and I found that there appeared to be a positive linear relationship between `retweet_count` and `favorite_count`. "
   ]
  }
 ],
 "metadata": {
  "kernelspec": {
   "display_name": "Python 3",
   "language": "python",
   "name": "python3"
  },
  "language_info": {
   "codemirror_mode": {
    "name": "ipython",
    "version": 3
   },
   "file_extension": ".py",
   "mimetype": "text/x-python",
   "name": "python",
   "nbconvert_exporter": "python",
   "pygments_lexer": "ipython3",
   "version": "3.6.3"
  }
 },
 "nbformat": 4,
 "nbformat_minor": 2
}
